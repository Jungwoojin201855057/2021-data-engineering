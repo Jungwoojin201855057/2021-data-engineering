{
 "cells": [
  {
   "cell_type": "code",
   "execution_count": 1,
   "id": "4b25b5ce-270a-4527-a251-b609c2c42703",
   "metadata": {},
   "outputs": [
    {
     "name": "stdout",
     "output_type": "stream",
     "text": [
      "[2, 3, 5, 7, 11]\n",
      "[]\n"
     ]
    }
   ],
   "source": [
    "\"\"\"\n",
    "Lists\n",
    "\"\"\"\n",
    "\n",
    "primes = [2,3,5,7,11]\n",
    "print(primes)\n",
    "\n",
    "empty_list = []\n",
    "print(empty_list)"
   ]
  },
  {
   "cell_type": "code",
   "execution_count": 3,
   "id": "2756b66b-d1ce-43af-a9e6-9e6e6cfbde90",
   "metadata": {},
   "outputs": [
    {
     "name": "stdout",
     "output_type": "stream",
     "text": [
      "['Jenny', 1, 1.4, True]\n",
      "[['a', 1], ['b', 2]]\n"
     ]
    }
   ],
   "source": [
    "\"\"\"\n",
    "Mulriple different data types\n",
    "\"\"\"\n",
    "\n",
    "mixed = ['Jenny',1,1.4,True]\n",
    "print(mixed)\n",
    "list_of_lists = [['a',1],['b',2]]\n",
    "print(list_of_lists)"
   ]
  },
  {
   "cell_type": "code",
   "execution_count": 6,
   "id": "7efaa493-7c53-452b-a6a5-6090ce7fbb11",
   "metadata": {},
   "outputs": [
    {
     "name": "stdout",
     "output_type": "stream",
     "text": [
      "Woojin\n",
      "Jinwoo\n",
      "Ssuckjin\n",
      "jungyup\n",
      "jungyup\n",
      "Ssuckjin\n",
      "Jinwoo\n",
      "Woojin\n"
     ]
    }
   ],
   "source": [
    "\"\"\"\n",
    "Zero-Indexing\n",
    "\"\"\"\n",
    "\n",
    "names = ['Woojin','Jinwoo','Ssuckjin','jungyup']\n",
    "print(names[0])\n",
    "print(names[1])\n",
    "print(names[2])\n",
    "print(names[3])\n",
    "\n",
    "\"\"\"\n",
    "Negative Indices\n",
    "\"\"\"\n",
    "print(names[-1]) #(-1)>Last data\n",
    "print(names[-2]) \n",
    "print(names[-3])\n",
    "print(names[-4])\n"
   ]
  },
  {
   "cell_type": "code",
   "execution_count": 27,
   "id": "3ea72b3b-d0fa-444e-8735-633afd86e4c6",
   "metadata": {},
   "outputs": [
    {
     "name": "stdout",
     "output_type": "stream",
     "text": [
      "['3', '4', '5', '6', '7']\n",
      "['1', '2', '3', '4']\n",
      "['1', '2', '3', '4', '5', '6', '7']\n",
      "['2', '3', '4']\n",
      "['필헌관', '소통관', '송암관', '늦봄관', '장준하통일관']\n",
      "['만우관', '장공관', '필헌관', '소통관']\n",
      "['만우관', '장공관', '필헌관', '소통관', '송암관', '늦봄관', '장준하통일관']\n",
      "['장공관', '필헌관', '소통관']\n"
     ]
    }
   ],
   "source": [
    "\"\"\"\n",
    "List Slicing\n",
    "\"\"\"\n",
    "\n",
    "numbers = ['1','2','3','4','5','6','7']\n",
    "select_numbers = numbers[1:4]\n",
    "print(numbers[2:])\n",
    "print(numbers[:4])\n",
    "print(numbers[:])\n",
    "print(select_numbers)\n",
    "\n",
    "hsu_buildings = ['만우관','장공관','필헌관','소통관','송암관','늦봄관','장준하통일관']\n",
    "building_slice = hsu_buildings[1:4]\n",
    "print(hsu_buildings[2:])\n",
    "print(hsu_buildings[:4])\n",
    "print(hsu_buildings[:])\n",
    "print(building_slice)"
   ]
  },
  {
   "cell_type": "code",
   "execution_count": 40,
   "id": "680f87de-817a-4913-8e40-2e202ae96ec9",
   "metadata": {},
   "outputs": [
    {
     "name": "stdout",
     "output_type": "stream",
     "text": [
      "[['해우리', '한식', '고S'], ['짜장명가', '중식', '중화비빔밤'], ['찌개동아리', '한식', '제육전골'], ['맘스터치', '양식', '싸이버거']]\n",
      "중식\n",
      "해우라면\n",
      "[['해우리', '한식', '해우라면'], ['짜장명가', '중식', '중화비빔밤'], ['찌개동아리', '한식', '제육전골'], ['맘스터치', '양식', '싸이버거']]\n"
     ]
    }
   ],
   "source": [
    "\"\"\"\n",
    "Dimensional List\n",
    "\"\"\"\n",
    "restaurants = [['해우리','한식','고S'],['짜장명가','중식','중화비빔밤'],['찌개동아리','한식','제육전골'],['맘스터치','양식','싸이버거']]\n",
    "print(restaurants)\n",
    "\n",
    "print(restaurants[1][1])\n",
    "restaurants[0][2] = '해우라면'\n",
    "print(restaurants[0][2])\n",
    "print(restaurants)"
   ]
  },
  {
   "cell_type": "code",
   "execution_count": 43,
   "id": "c855bce7-0a8c-4134-9564-580ee5d3177d",
   "metadata": {},
   "outputs": [
    {
     "name": "stdout",
     "output_type": "stream",
     "text": [
      "['cake', 'cookie', 'bread', 'biscuit', 'tart']\n"
     ]
    }
   ],
   "source": [
    "\"\"\"\n",
    "Adding Lists Together\n",
    "\"\"\"\n",
    "\n",
    "items_one = ['cake','cookie','bread']\n",
    "items_two = ['biscuit','tart']\n",
    "\n",
    "total_items = items_one + items_two\n",
    "print(total_items)"
   ]
  },
  {
   "cell_type": "code",
   "execution_count": 65,
   "id": "2d6b7d3f-4c0b-4ea0-a3c0-9f2c555f0cc9",
   "metadata": {},
   "outputs": [
    {
     "name": "stdout",
     "output_type": "stream",
     "text": [
      "5\n",
      "3\n",
      "['daisies', 'periwinkle', 'tulips']\n",
      "['Karla', 'Maxium', 'Woojin', 'Martin', 'Isabella']\n",
      "['C Programming', 'Data Engineering']\n",
      "[4, 2, 1, 5, 6, 3]\n",
      "[1, 2, 3, 4, 5, 6]\n",
      "['만우관', '장공관', '필헌관', '소통관', '송암관', '늦봄관', '장준하통일관']\n",
      "['늦봄관', '만우관', '소통관', '송암관', '장공관', '장준하통일관', '필헌관']\n",
      "['Woojin', 'Jinwoo', 'Ssuckjin', 'jungyup']\n",
      "['Jinwoo', 'Ssuckjin', 'Woojin', 'jungyup']\n"
     ]
    }
   ],
   "source": [
    "\"\"\"\n",
    "Useful Methods for Lists\n",
    "\"\"\"\n",
    "\n",
    "#Len()은 리스트의 크기(개수)를 나타냄\n",
    "Knapsack = [2,4,3,7,10]\n",
    "size = len(Knapsack)\n",
    "print(size)\n",
    "\n",
    "#count()는 특정 아이템의 개수를 나타냄\n",
    "backpack = ['pencil','pen','notebook','textbook','pen','highlighter','pen']\n",
    "numPen = backpack.count('pen') #count는 아이템의 개수를 나타냄\n",
    "print(numPen)\n",
    "\n",
    "#append()는 리스트의 끝에 아이템 추가\n",
    "orders = ['daisies','periwinkle']\n",
    "orders.append('tulips') \n",
    "print(orders)\n",
    "\n",
    "#insert()는 특정 위치에 아이템을 추가\n",
    "store_line = ['Karla','Maxium','Martin','Isabella']\n",
    "store_line.insert(2,'Woojin') \n",
    "print(store_line)\n",
    "\n",
    "#pop()은특정 위치의 아이템을 삭제\n",
    "sw_subjexts = ['C Programming','Calculus','Data Engineering','Data Structures','Machine Learning']\n",
    "sw_subjexts.pop(1)\n",
    "sw_subjexts.pop() #NULL은 리스트의 마지막 아이템을 삭제\n",
    "sw_subjexts.remove('Data Structures')#특정 아이템만 삭제\n",
    "print(sw_subjexts)\n",
    "\n",
    "#sort()는 정렬시켜줌\n",
    "numbers =[4,2,1,5,6,3]\n",
    "print(numbers)\n",
    "numbers.sort()\n",
    "print(numbers)\n",
    "\n",
    "hsu_buildings = ['만우관','장공관','필헌관','소통관','송암관','늦봄관','장준하통일관']\n",
    "print(hsu_buildings)\n",
    "hsu_buildings.sort()\n",
    "print(hsu_buildings)\n",
    "\n",
    "#sorted()는 원본 리스트를 유지시킬 수 있음\n",
    "names = ['Woojin','Jinwoo','Ssuckjin','jungyup']\n",
    "print(names)\n",
    "sorted_names = sorted(names)\n",
    "print(sorted_names)"
   ]
  }
 ],
 "metadata": {
  "kernelspec": {
   "display_name": "Python 3",
   "language": "python",
   "name": "python3"
  },
  "language_info": {
   "codemirror_mode": {
    "name": "ipython",
    "version": 3
   },
   "file_extension": ".py",
   "mimetype": "text/x-python",
   "name": "python",
   "nbconvert_exporter": "python",
   "pygments_lexer": "ipython3",
   "version": "3.8.8"
  }
 },
 "nbformat": 4,
 "nbformat_minor": 5
}
