{
 "cells": [
  {
   "cell_type": "code",
   "execution_count": 34,
   "id": "ac07f424-9051-4c41-8ace-0a8a4c685fa1",
   "metadata": {},
   "outputs": [
    {
     "name": "stdout",
     "output_type": "stream",
     "text": [
      "2\n"
     ]
    }
   ],
   "source": [
    "\"\"\"\n",
    "Funtions vs Method\n",
    "\"\"\"\n",
    "# method:클래스 내에 정의된 함수\n",
    "\n",
    "def my_funtion(x):\n",
    "    return x + 1\n",
    "\n",
    "y = 3\n",
    "my_funtion(y)\n",
    "\n",
    "class my_class:\n",
    "    def my_method(self):\n",
    "        return x + 1\n",
    "    \n",
    "cls = my_class()\n",
    "\n",
    "print(cls.my_method())"
   ]
  },
  {
   "cell_type": "code",
   "execution_count": 40,
   "id": "fbc52391-efee-4457-8c2e-860c2328b14c",
   "metadata": {},
   "outputs": [
    {
     "name": "stdout",
     "output_type": "stream",
     "text": [
      "2021 is a not leap year.\n"
     ]
    }
   ],
   "source": [
    "\"\"\"\n",
    "Return Keyword\n",
    "\"\"\"\n",
    "\n",
    "def check_leap_year(year):\n",
    "    if year % 4 ==0:\n",
    "        return str(year) + \" is a leap year.\"\n",
    "    else:\n",
    "        return str(year) + \" is a not leap year.\"\n",
    "\n",
    "result= check_leap_year(2021)\n",
    "print(result)"
   ]
  },
  {
   "cell_type": "code",
   "execution_count": 45,
   "id": "a3acf650-cede-436e-85c2-f75a9b336a70",
   "metadata": {},
   "outputs": [
    {
     "name": "stdout",
     "output_type": "stream",
     "text": [
      "9 16 25\n"
     ]
    }
   ],
   "source": [
    "\"\"\"\n",
    "Returning Multiple Values\n",
    "\"\"\"\n",
    "def square_point(x,y,z):\n",
    "    x_square = x**2\n",
    "    y_square = y**2\n",
    "    z_square = z**2\n",
    "    return x_square,y_square,z_square\n",
    "\n",
    "three_square, four_square, five_square = square_point(3,4,5)\n",
    "print(three_square, four_square, five_square)\n",
    "    "
   ]
  },
  {
   "cell_type": "code",
   "execution_count": 46,
   "id": "445b4e7d-0ac7-4f68-9d76-12db3e4a65e9",
   "metadata": {},
   "outputs": [
    {
     "name": "stdout",
     "output_type": "stream",
     "text": [
      "Hello\n"
     ]
    }
   ],
   "source": [
    "\"\"\"\n",
    "Global Variables\n",
    "\"\"\"\n",
    "a = \"Hello\"\n",
    "\n",
    "def print_a():\n",
    "    print(a)\n",
    "    \n",
    "print_a()"
   ]
  },
  {
   "cell_type": "code",
   "execution_count": 64,
   "id": "5301e0ac-4b3a-47a2-a9d2-b519609ea28b",
   "metadata": {},
   "outputs": [
    {
     "name": "stdout",
     "output_type": "stream",
     "text": [
      "2\n"
     ]
    }
   ],
   "source": [
    "\"\"\"\n",
    "Local Variables\n",
    "\"\"\"\n",
    "c=5\n",
    "\n",
    "def f1():\n",
    "    c=2\n",
    "    print(c)\n",
    "\n",
    "f1()"
   ]
  },
  {
   "cell_type": "code",
   "execution_count": 68,
   "id": "a9084446-413f-44d8-94f2-f0137261358c",
   "metadata": {},
   "outputs": [
    {
     "name": "stdout",
     "output_type": "stream",
     "text": [
      "Height=1\n",
      "Width=2\n",
      "Depth=3\n",
      "6\n",
      "Height=2\n",
      "Width=1\n",
      "Depth=3\n",
      "6\n"
     ]
    }
   ],
   "source": [
    "\"\"\"\n",
    "Keyword Anguments and Default Values\n",
    "\"\"\"\n",
    "\n",
    "def findvolum(height,width,depth):\n",
    "    print(\"Height=\"+str(height)) # str():어떤 값을 문자열 값으로 반환\n",
    "    print(\"Width=\"+str(width))\n",
    "    print(\"Depth=\"+str(depth))\n",
    "    return height*width*depth\n",
    "\n",
    "#예제: 높이1,넓이,2,깊이3\n",
    "print(findvolum(1,2,3))\n",
    "print(findvolum(2,1,3))"
   ]
  }
 ],
 "metadata": {
  "kernelspec": {
   "display_name": "Python 3",
   "language": "python",
   "name": "python3"
  },
  "language_info": {
   "codemirror_mode": {
    "name": "ipython",
    "version": 3
   },
   "file_extension": ".py",
   "mimetype": "text/x-python",
   "name": "python",
   "nbconvert_exporter": "python",
   "pygments_lexer": "ipython3",
   "version": "3.8.8"
  }
 },
 "nbformat": 4,
 "nbformat_minor": 5
}
