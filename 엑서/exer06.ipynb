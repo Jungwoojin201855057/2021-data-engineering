{
 "cells": [
  {
   "cell_type": "code",
   "execution_count": 3,
   "id": "eb7c5106-dbad-4045-af75-f333b7e33011",
   "metadata": {},
   "outputs": [],
   "source": [
    "import numpy as np\n",
    "import pandas as pd\n",
    "from matplotlib import pyplot as plt"
   ]
  },
  {
   "cell_type": "code",
   "execution_count": 9,
   "id": "80417b86-319f-4df7-803f-5388a363543e",
   "metadata": {},
   "outputs": [
    {
     "name": "stdout",
     "output_type": "stream",
     "text": [
      "['1.5' 'string' 'True']\n"
     ]
    }
   ],
   "source": [
    "# Creating a NumPy Array\n",
    "lst = [1.5,\"string\",True]\n",
    "\n",
    "arr = np.array(lst)\n",
    "print(arr)"
   ]
  },
  {
   "cell_type": "code",
   "execution_count": 10,
   "id": "b1e4baea-fe50-4e4d-bd1c-b5c7112b9be4",
   "metadata": {},
   "outputs": [
    {
     "name": "stdout",
     "output_type": "stream",
     "text": [
      "<U32\n"
     ]
    }
   ],
   "source": [
    "# .dtype attribute\n",
    "print(arr.dtype)"
   ]
  },
  {
   "cell_type": "code",
   "execution_count": 19,
   "id": "4bccae6b-0143-49d6-9184-4f2e816119ae",
   "metadata": {},
   "outputs": [
    {
     "name": "stdout",
     "output_type": "stream",
     "text": [
      "152\n",
      "152\n"
     ]
    }
   ],
   "source": [
    "\"\"\"\n",
    "Size Comparison of ndarrary and list objects\n",
    "\"\"\"\n",
    "from sys import getsizeof\n",
    "\n",
    "lst = [1,2,3,4,5,6,7,8,9,10,11,12]\n",
    "print(getsizeof(lst))\n",
    "\n",
    "arr = np.array(lst)\n",
    "print(getsizeof(arr))"
   ]
  },
  {
   "cell_type": "code",
   "execution_count": 23,
   "id": "12735130-df97-43b6-9b37-16854cde0ed5",
   "metadata": {},
   "outputs": [
    {
     "name": "stdout",
     "output_type": "stream",
     "text": [
      "[30, 25, 40, 20, 20, 35, 50, 35]\n",
      "[25, 20, 35, 15, 15, 30, 45, 30]\n",
      "[25 20 35 15 15 30 45 30]\n"
     ]
    }
   ],
   "source": [
    "\"\"\"\n",
    "Operations with NumPy Arrays\n",
    "\"\"\"\n",
    "prices = [30,25,40,20,20,35,50,35]\n",
    "new_price = [price-5 for price in prices]\n",
    "print(prices)\n",
    "print(new_price)\n",
    "\n",
    "prices_arr = np.array(prices)\n",
    "prices_arr -= 5\n",
    "print(prices_arr)\n"
   ]
  },
  {
   "cell_type": "code",
   "execution_count": 38,
   "id": "e5a904a3-6882-45cf-b361-69467ef0597c",
   "metadata": {},
   "outputs": [
    {
     "name": "stdout",
     "output_type": "stream",
     "text": [
      "[89 87 74 92 94]\n",
      "[258 279 246 274 270]\n",
      "[86.         93.         82.         91.33333333 90.        ]\n",
      "93\n",
      "[94 88]\n",
      "[[ 92  94  88  91  87]\n",
      " [ 79 100  86  93  91]\n",
      " [ 87  85  72  90  92]]\n",
      "87\n",
      "[87 91 92]\n"
     ]
    }
   ],
   "source": [
    "\"\"\"\n",
    "Exercise: Test Scores\n",
    "\"\"\"\n",
    "test_1 = np.array([92,94,88,91,87])\n",
    "test_2 = np.array([79,100,86,93,91])\n",
    "test_3 = np.array([87,85,72,90,92])\n",
    "\n",
    "test_3_fixed = test_3 + 2\n",
    "print(test_3_fixed)\n",
    "\n",
    "total_grade = test_1 + test_2 + test_3\n",
    "print(total_grade)\n",
    "final_grade = total_grade / 3\n",
    "print(final_grade)\n",
    "\n",
    "jeremy_test_2 = test_2[3]\n",
    "print(jeremy_test_2)\n",
    "\n",
    "manual_adwoa_test_1 = np.array([test_1[1], test_1[2]])\n",
    "print(manual_adwoa_test_1)\n",
    "\n",
    "student_scores = np.array([test_1,test_2,test_3])\n",
    "print(student_scores)\n",
    "\n",
    "print(student_scores[2,0])\n",
    "\n",
    "print(student_scores[:,4])"
   ]
  },
  {
   "cell_type": "code",
   "execution_count": 44,
   "id": "8e0f34d4-a835-4062-958a-bb1d2b4349b8",
   "metadata": {},
   "outputs": [
    {
     "name": "stdout",
     "output_type": "stream",
     "text": [
      "[ True False False False False False  True  True  True  True]\n",
      "[10  9  8  9  7]\n",
      "[10  2  2  3  9  8  9  7]\n",
      "[5 7]\n"
     ]
    }
   ],
   "source": [
    "\"\"\"\n",
    "Logical Operations with Arrays\n",
    "\"\"\"\n",
    "\n",
    "a=np.array([10,2,2,4,5,3,9,8,9,7])\n",
    "mask = a > 5\n",
    "print(mask)\n",
    "\n",
    "selected = a[a > 5]\n",
    "print(selected)\n",
    "\n",
    "selected = a[(a > 6) | (a < 4)]\n",
    "print(selected)\n",
    "\n",
    "selected = a[(a > 4) & (a < 8)]\n",
    "print(selected)\n"
   ]
  },
  {
   "cell_type": "code",
   "execution_count": 60,
   "id": "579e017b-e9f2-4687-98c2-ef97264fa8c9",
   "metadata": {},
   "outputs": [
    {
     "name": "stdout",
     "output_type": "stream",
     "text": [
      "[79, 65, 50, 63, 56, 90, 85, 98, 79, 51]\n",
      "[79 65 50 63 56 90 85 98 79 51]\n",
      "[50 56 51]\n",
      "[90 85 98]\n",
      "[79 65 63 79]\n"
     ]
    }
   ],
   "source": [
    "\"\"\"\n",
    "Exercise: Goldilocks Porridge Festival\n",
    "\"\"\"\n",
    "\n",
    "porridge = [79,65,50,63,56,90,85,98,79,51]\n",
    "porridge_arr = np.array([79,65,50,63,56,90,85,98,79,51])\n",
    "\n",
    "print(porridge)\n",
    "print(porridge_arr)\n",
    "\n",
    "cold = porridge_arr[porridge_arr < 60] # 60도 미만 = 59도 이하\n",
    "print(cold)\n",
    "\n",
    "hot = porridge_arr[porridge_arr > 80] # 80도 초과 = 81도 이상\n",
    "print(hot)\n",
    "\n",
    "just_right = porridge_arr[(porridge_arr >= 60) & (porridge_arr <= 80)] # 60~80 포함\n",
    "print(just_right)"
   ]
  },
  {
   "cell_type": "code",
   "execution_count": null,
   "id": "7ef45d76-7b97-4831-a8aa-06d4a3908c77",
   "metadata": {},
   "outputs": [],
   "source": []
  }
 ],
 "metadata": {
  "kernelspec": {
   "display_name": "Python 3",
   "language": "python",
   "name": "python3"
  },
  "language_info": {
   "codemirror_mode": {
    "name": "ipython",
    "version": 3
   },
   "file_extension": ".py",
   "mimetype": "text/x-python",
   "name": "python",
   "nbconvert_exporter": "python",
   "pygments_lexer": "ipython3",
   "version": "3.8.8"
  }
 },
 "nbformat": 4,
 "nbformat_minor": 5
}
