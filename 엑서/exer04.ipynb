{
 "cells": [
  {
   "cell_type": "code",
   "execution_count": 6,
   "id": "9d3fabed-5851-41c2-ac78-488bc28fd7fd",
   "metadata": {},
   "outputs": [
    {
     "name": "stdout",
     "output_type": "stream",
     "text": [
      "1\n",
      "2\n",
      "3\n",
      "4\n",
      "5\n",
      "0\n",
      "1\n",
      "2\n",
      "3\n",
      "4\n",
      "5\n",
      "6\n",
      "7\n",
      "8\n",
      "9\n"
     ]
    }
   ],
   "source": [
    "\"\"\"\n",
    "for Loops\n",
    "\"\"\"\n",
    "\n",
    "nums = [1,2,3,4,5]\n",
    "\n",
    "for num in nums:\n",
    "    print(num)\n",
    "\n",
    "for i in range(10):\n",
    "    print(i)"
   ]
  },
  {
   "cell_type": "code",
   "execution_count": 31,
   "id": "d9a28701-3f65-4ad8-bc58-3c6e5ebeb7ef",
   "metadata": {},
   "outputs": [
    {
     "name": "stdout",
     "output_type": "stream",
     "text": [
      "1\n",
      "2\n",
      "4\n",
      "5\n"
     ]
    }
   ],
   "source": [
    "\"\"\"\n",
    "Continue Keyword\n",
    "\"\"\"\n",
    "\n",
    "nums = [1,2,-1,4,-5,5,-2,-9]\n",
    "\n",
    "for num in nums:\n",
    "    if num < 0:\n",
    "        continue\n",
    "    print(num)"
   ]
  },
  {
   "cell_type": "code",
   "execution_count": 34,
   "id": "aed4a298-3a9e-403c-b626-f55c2a2a38e3",
   "metadata": {},
   "outputs": [
    {
     "name": "stdout",
     "output_type": "stream",
     "text": [
      "stage1is complete\n",
      "stage2is complete\n",
      "stage3is complete\n",
      "Game is over\n"
     ]
    }
   ],
   "source": [
    "\"\"\"\n",
    "break keyword\n",
    "\"\"\"\n",
    "\n",
    "game_plays = ['stage1','stage2','stage3','gameover','stage4','stage5']\n",
    "\n",
    "for play in game_plays:\n",
    "    \n",
    "    if play == 'gameover':\n",
    "        print(\"Game is over\")\n",
    "        break\n",
    "    \n",
    "    print(play+'is complete')"
   ]
  },
  {
   "cell_type": "code",
   "execution_count": 36,
   "id": "3e857a58-3c27-4f6f-aad8-2f99c5abe2be",
   "metadata": {},
   "outputs": [
    {
     "name": "stdout",
     "output_type": "stream",
     "text": [
      "[1, 2, 3, 4, 5, 6, 7, 8, 9, 10]\n"
     ]
    }
   ],
   "source": [
    "\"\"\"\n",
    "List Comprehension\n",
    "\"\"\"\n",
    "one_to_ten = [i+1 for i in range(10)]\n",
    "print(one_to_ten)"
   ]
  },
  {
   "cell_type": "code",
   "execution_count": 39,
   "id": "b0917d7a-d7b4-46d3-96ef-8f3396b210c6",
   "metadata": {},
   "outputs": [
    {
     "name": "stdout",
     "output_type": "stream",
     "text": [
      "['손흥민']\n"
     ]
    }
   ],
   "source": [
    "\"\"\"\n",
    "List Comprehension including conditions\n",
    "\"\"\"\n",
    "\n",
    "hotspurs = [['손흥민','A+'],['해리케인','F']]\n",
    "poors = [player[0] for player in hotspurs if player[1] == 'A+']\n",
    "print(poors)"
   ]
  },
  {
   "cell_type": "code",
   "execution_count": 24,
   "id": "fac760a2-7a08-4e0e-b4b4-f109bc929134",
   "metadata": {},
   "outputs": [
    {
     "name": "stdout",
     "output_type": "stream",
     "text": [
      "1 X 1 = 1\n",
      "1 X 2 = 2\n",
      "1 X 3 = 3\n",
      "1 X 4 = 4\n",
      "1 X 5 = 5\n",
      "1 X 6 = 6\n",
      "1 X 7 = 7\n",
      "1 X 8 = 8\n",
      "1 X 9 = 9\n",
      "2 X 1 = 2\n",
      "2 X 2 = 4\n",
      "2 X 3 = 6\n",
      "2 X 4 = 8\n",
      "2 X 5 = 10\n",
      "2 X 6 = 12\n",
      "2 X 7 = 14\n",
      "2 X 8 = 16\n",
      "2 X 9 = 18\n",
      "3 X 1 = 3\n",
      "3 X 2 = 6\n",
      "3 X 3 = 9\n",
      "3 X 4 = 12\n",
      "3 X 5 = 15\n",
      "3 X 6 = 18\n",
      "3 X 7 = 21\n",
      "3 X 8 = 24\n",
      "3 X 9 = 27\n",
      "4 X 1 = 4\n",
      "4 X 2 = 8\n",
      "4 X 3 = 12\n",
      "4 X 4 = 16\n",
      "4 X 5 = 20\n",
      "4 X 6 = 24\n",
      "4 X 7 = 28\n",
      "4 X 8 = 32\n",
      "4 X 9 = 36\n",
      "5 X 1 = 5\n",
      "5 X 2 = 10\n",
      "5 X 3 = 15\n",
      "5 X 4 = 20\n",
      "5 X 5 = 25\n",
      "5 X 6 = 30\n",
      "5 X 7 = 35\n",
      "5 X 8 = 40\n",
      "5 X 9 = 45\n",
      "6 X 1 = 6\n",
      "6 X 2 = 12\n",
      "6 X 3 = 18\n",
      "6 X 4 = 24\n",
      "6 X 5 = 30\n",
      "6 X 6 = 36\n",
      "6 X 7 = 42\n",
      "6 X 8 = 48\n",
      "6 X 9 = 54\n",
      "7 X 1 = 7\n",
      "7 X 2 = 14\n",
      "7 X 3 = 21\n",
      "7 X 4 = 28\n",
      "7 X 5 = 35\n",
      "7 X 6 = 42\n",
      "7 X 7 = 49\n",
      "7 X 8 = 56\n",
      "7 X 9 = 63\n",
      "8 X 1 = 8\n",
      "8 X 2 = 16\n",
      "8 X 3 = 24\n",
      "8 X 4 = 32\n",
      "8 X 5 = 40\n",
      "8 X 6 = 48\n",
      "8 X 7 = 56\n",
      "8 X 8 = 64\n",
      "8 X 9 = 72\n",
      "9 X 1 = 9\n",
      "9 X 2 = 18\n",
      "9 X 3 = 27\n",
      "9 X 4 = 36\n",
      "9 X 5 = 45\n",
      "9 X 6 = 54\n",
      "9 X 7 = 63\n",
      "9 X 8 = 72\n",
      "9 X 9 = 81\n"
     ]
    }
   ],
   "source": [
    "\"\"\"\n",
    "Nested Loops\n",
    "\"\"\"\n",
    "one_to_nine = [i+1 for i in range(9)]\n",
    "\n",
    "for i in one_to_nine:\n",
    "    for j in one_to_nine:\n",
    "        print(\"%d X %d = %d\" % (i,j,i*j))"
   ]
  },
  {
   "cell_type": "code",
   "execution_count": 48,
   "id": "ce2901e9-41aa-43a1-9b9c-790d8f30c7eb",
   "metadata": {},
   "outputs": [
    {
     "name": "stdout",
     "output_type": "stream",
     "text": [
      "떡볶이 맛있다\n",
      "순대 맛있다\n",
      "어묵 맛있다\n",
      "새우튀김 맛있다\n",
      "핫도그 맛있다\n"
     ]
    }
   ],
   "source": [
    "\"\"\"\n",
    "While Loops\n",
    "\"\"\"\n",
    "hungry = True\n",
    "foods_on_table = ['떡볶이','순대','어묵','새우튀김','핫도그']\n",
    "foods_num = 5\n",
    "ate_num = 0\n",
    "\n",
    "while (ate_num <= 4):\n",
    "    print(foods_on_table[ate_num] + \" 맛있다\")\n",
    "    ate_num += 1"
   ]
  },
  {
   "cell_type": "code",
   "execution_count": 23,
   "id": "3fe46637-499d-42f3-a19a-fb01707d86cf",
   "metadata": {},
   "outputs": [
    {
     "name": "stdout",
     "output_type": "stream",
     "text": [
      "Do Somethimg\n",
      "Do Somethimg\n",
      "Do Somethimg\n",
      "Do Somethimg\n"
     ]
    }
   ],
   "source": [
    "\"\"\"\n",
    "Infinite Loops\n",
    "\"\"\"\n",
    "\n",
    "x=1\n",
    "y=1\n",
    "\n",
    "while x<5:\n",
    "    print(\"Do Somethimg\")\n",
    "    x += 1"
   ]
  },
  {
   "cell_type": "code",
   "execution_count": null,
   "id": "c0da5e83-96ed-4e38-8c49-ae752c015d85",
   "metadata": {
    "tags": []
   },
   "outputs": [],
   "source": []
  }
 ],
 "metadata": {
  "kernelspec": {
   "display_name": "Python 3",
   "language": "python",
   "name": "python3"
  },
  "language_info": {
   "codemirror_mode": {
    "name": "ipython",
    "version": 3
   },
   "file_extension": ".py",
   "mimetype": "text/x-python",
   "name": "python",
   "nbconvert_exporter": "python",
   "pygments_lexer": "ipython3",
   "version": "3.8.8"
  }
 },
 "nbformat": 4,
 "nbformat_minor": 5
}
