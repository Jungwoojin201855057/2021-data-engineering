{
 "cells": [
  {
   "cell_type": "code",
   "execution_count": 5,
   "id": "d4aec8a1-9c4e-420d-bd58-85a872b2400a",
   "metadata": {},
   "outputs": [
    {
     "name": "stdout",
     "output_type": "stream",
     "text": [
      "Hello World!\n",
      "100\n",
      "3.14\n",
      "My name is Woo jin!\n"
     ]
    }
   ],
   "source": [
    "\"\"\"\n",
    "print() funtion\n",
    "\"\"\"\n",
    "\n",
    "print(\"Hello World!\")\n",
    "print(100)\n",
    "pi = 3.14\n",
    "print(pi)\n",
    "\n",
    "intro = \"My name is \"\n",
    "name = \"Woo jin\"\n",
    "print(intro + name + \"!\")"
   ]
  },
  {
   "cell_type": "code",
   "execution_count": 14,
   "id": "4bed2626-8bea-4c98-be40-acfeccde2983",
   "metadata": {},
   "outputs": [
    {
     "name": "stdout",
     "output_type": "stream",
     "text": [
      "my name is: woo jin jung \n",
      "my id is: 201855057\n",
      "my age is 23\n"
     ]
    }
   ],
   "source": [
    "\"\"\"\n",
    "variables\n",
    "\"\"\"\n",
    "\n",
    "# Comment or annotation\n",
    "# Define a name\n",
    "user_name = \"woo jin jung \"\n",
    "user_id = 201855057\n",
    "user_age = 23\n",
    "print(\"my name is:\",user_name)\n",
    "print(\"my id is:\",user_id)\n",
    "print(\"my age is\",user_age)"
   ]
  },
  {
   "cell_type": "code",
   "execution_count": 8,
   "id": "ba539156-3acb-4273-94af-f4b7e8d66f01",
   "metadata": {},
   "outputs": [],
   "source": [
    "\"\"\"\n",
    "Data Types: Integers\n",
    "\"\"\"\n",
    "\n",
    "# 집에 있는 사물의 객수를 세 가지 이상의 정수 변수로 표현하시오.\n",
    "\n",
    "computer = 2\n",
    "cup = 1\n",
    "phone = 1\n",
    "tables = 1\n",
    "broken_computer = 1"
   ]
  },
  {
   "cell_type": "code",
   "execution_count": 35,
   "id": "f82d2a72-29a6-4483-b022-813bea7dcbd7",
   "metadata": {},
   "outputs": [
    {
     "name": "stdout",
     "output_type": "stream",
     "text": [
      "14.3\n",
      "7.4\n",
      "3.14\n",
      "173.2\n"
     ]
    }
   ],
   "source": [
    "\"\"\"\n",
    "Data Types: Real Numbers\n",
    "\"\"\"\n",
    "\n",
    "# 본인이 알고 있는 세 개의 실수를 변수로 정의하시오.\n",
    "\n",
    "i_phone_12pro_size_high = 14.3\n",
    "i_phone_12pro_size_wide = 7.4\n",
    "PI = 3.14\n",
    "My_tall = 173.2\n",
    "\n",
    "print(i_phone_12pro_size_high)\n",
    "print(i_phone_12pro_size_wide)\n",
    "print(PI)\n",
    "print(My_tall)"
   ]
  },
  {
   "cell_type": "code",
   "execution_count": 2,
   "id": "06adbfda-9f8a-4378-a1ee-eb6146f0c2b0",
   "metadata": {},
   "outputs": [
    {
     "name": "stdout",
     "output_type": "stream",
     "text": [
      " favorite game is: league of legend favorite friend is: S.J favorite number is: 32!\n"
     ]
    }
   ],
   "source": [
    "\"\"\"\n",
    "Data Types: Strings\n",
    "\"\"\"\n",
    "\n",
    "favorite_game = \"league of legend\"\n",
    "favorite_friend = \"S.J\"\n",
    "favorite_number = \"32\"\n",
    "\n",
    "# 본인이 좋아하는 세 가지를 문자열로 정의하시오.\n",
    "\n",
    "print(\" favorite game is:\",favorite_game + \" favorite friend is:\", favorite_friend + \" favorite number is:\", favorite_number + \"!\")"
   ]
  },
  {
   "cell_type": "code",
   "execution_count": 11,
   "id": "e16b275a-3f46-4a70-a5e9-e27267ca711d",
   "metadata": {},
   "outputs": [
    {
     "name": "stdout",
     "output_type": "stream",
     "text": [
      "10\n"
     ]
    }
   ],
   "source": [
    "counter = 0\n",
    "counter += 10\n",
    "print(counter)"
   ]
  },
  {
   "cell_type": "code",
   "execution_count": 19,
   "id": "f20a2af4-661b-4b42-899b-4e57cf68e538",
   "metadata": {},
   "outputs": [
    {
     "name": "stdout",
     "output_type": "stream",
     "text": [
      "24\n"
     ]
    }
   ],
   "source": [
    "\"\"\"\n",
    "x-Equals Operations\n",
    "\"\"\"\n",
    "\n",
    "x = 4\n",
    "x *= 4\n",
    "x += 8\n",
    "print(x)"
   ]
  }
 ],
 "metadata": {
  "kernelspec": {
   "display_name": "Python 3",
   "language": "python",
   "name": "python3"
  },
  "language_info": {
   "codemirror_mode": {
    "name": "ipython",
    "version": 3
   },
   "file_extension": ".py",
   "mimetype": "text/x-python",
   "name": "python",
   "nbconvert_exporter": "python",
   "pygments_lexer": "ipython3",
   "version": "3.8.8"
  }
 },
 "nbformat": 4,
 "nbformat_minor": 5
}
