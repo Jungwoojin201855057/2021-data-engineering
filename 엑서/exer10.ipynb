{
 "cells": [
  {
   "cell_type": "code",
   "execution_count": 4,
   "id": "75c18d4d-9a06-4719-8a4a-0f5022538603",
   "metadata": {},
   "outputs": [],
   "source": [
    "import pandas as pd\n",
    "import numpy as np"
   ]
  },
  {
   "cell_type": "code",
   "execution_count": 10,
   "id": "f3900470-ab08-4241-9e56-20e8dd1f35bb",
   "metadata": {},
   "outputs": [
    {
     "data": {
      "text/plain": [
       "'1.2.4'"
      ]
     },
     "execution_count": 10,
     "metadata": {},
     "output_type": "execute_result"
    }
   ],
   "source": [
    "#Display the help document\n",
    "pd.__version__"
   ]
  },
  {
   "cell_type": "code",
   "execution_count": 13,
   "id": "8f899c1b-ceb2-4bb7-b54f-470175182271",
   "metadata": {},
   "outputs": [
    {
     "name": "stdout",
     "output_type": "stream",
     "text": [
      "0    0.25\n",
      "1    0.50\n",
      "2    0.75\n",
      "3    1.00\n",
      "dtype: float64\n",
      "[0.25 0.5  0.75 1.  ]\n"
     ]
    }
   ],
   "source": [
    "\"\"\"\n",
    "    Pandas Object: Series\n",
    "\"\"\"\n",
    "# Create a series from an array\n",
    "\n",
    "ser = pd.Series([0.25,0.5,0.75,1.0]) #constructor method\n",
    "print(ser)"
   ]
  },
  {
   "cell_type": "code",
   "execution_count": 17,
   "id": "28480295-5311-4710-9515-4c1fb7ca43f6",
   "metadata": {},
   "outputs": [
    {
     "name": "stdout",
     "output_type": "stream",
     "text": [
      "[0.25 0.5  0.75 1.  ]\n",
      "RangeIndex(start=0, stop=4, step=1)\n",
      "[0 1 2 3]\n"
     ]
    }
   ],
   "source": [
    "# Main Attributes: 'values' and 'index'\n",
    "arr = ser.values\n",
    "print(arr)\n",
    "\n",
    "ind = ser.index\n",
    "print(ind)\n",
    "print(ind.values)"
   ]
  },
  {
   "cell_type": "code",
   "execution_count": 21,
   "id": "3e97f8bb-ec16-4bdf-804d-7209cc7a5bb2",
   "metadata": {},
   "outputs": [
    {
     "name": "stdout",
     "output_type": "stream",
     "text": [
      "a    0.25\n",
      "b    0.50\n",
      "c    0.75\n",
      "d    1.00\n",
      "dtype: float64\n"
     ]
    }
   ],
   "source": [
    "# Label-based Indexing\n",
    "ser = pd.Series([0.25,0.5,0.75,1.0],index=['a','b','c','d'])\n",
    "print(ser)"
   ]
  },
  {
   "cell_type": "code",
   "execution_count": 22,
   "id": "61297971-8feb-4616-b6cf-11c20a8c2fd9",
   "metadata": {},
   "outputs": [],
   "source": [
    "\"\"\"\n",
    "Dicrionary and Series\n",
    "\"\"\"\n",
    "dict = {'a':1,2:'two','third':True}"
   ]
  },
  {
   "cell_type": "code",
   "execution_count": 24,
   "id": "fa197d3d-dd51-445e-9216-52b0fed4a055",
   "metadata": {},
   "outputs": [
    {
     "name": "stdout",
     "output_type": "stream",
     "text": [
      "California    38332521\n",
      "Texas         26448193\n",
      "New York      19651127\n",
      "Florida       19552860\n",
      "Illinois      12882135\n",
      "dtype: int64\n"
     ]
    }
   ],
   "source": [
    "\"\"\"\n",
    "Create a series from a dictionary\n",
    "\"\"\"\n",
    "population_dict = {'California':38332521,\n",
    "                  'Texas':26448193,\n",
    "                  'New York':19651127,\n",
    "                  'Florida':19552860,\n",
    "                  'Illinois':12882135}\n",
    "\n",
    "population = pd.Series(population_dict)\n",
    "print(population)"
   ]
  },
  {
   "cell_type": "code",
   "execution_count": 26,
   "id": "492d4eae-348f-4892-9341-2ece3eaec35b",
   "metadata": {},
   "outputs": [
    {
     "name": "stdout",
     "output_type": "stream",
     "text": [
      "California    423967\n",
      "Texas         695662\n",
      "New York      141297\n",
      "Florida       170312\n",
      "Illinois      149995\n",
      "dtype: int64\n"
     ]
    }
   ],
   "source": [
    "\"\"\"\n",
    "    Pandas object: DataFrame\n",
    "\"\"\"\n",
    "\n",
    "area_dict = {'California': 423967, 'Texas':695662, 'New York':141297,\n",
    "            'Florida': 170312, 'Illinois': 149995}\n",
    "\n",
    "area = pd.Series(area_dict)\n",
    "print(area)"
   ]
  },
  {
   "cell_type": "code",
   "execution_count": 32,
   "id": "9546c04b-e679-4208-965b-1bbad56cef5f",
   "metadata": {},
   "outputs": [
    {
     "name": "stdout",
     "output_type": "stream",
     "text": [
      "            population    area\n",
      "California    38332521  423967\n",
      "Texas         26448193  695662\n",
      "New York      19651127  141297\n",
      "Florida       19552860  170312\n",
      "Illinois      12882135  149995\n",
      "Index(['California', 'Texas', 'New York', 'Florida', 'Illinois'], dtype='object') \n",
      "\n",
      "Index(['population', 'area'], dtype='object')\n"
     ]
    }
   ],
   "source": [
    "# Construct a DataFrame conraining 'population' and 'area' Series\n",
    "\n",
    "states = pd.DataFrame({'population':population, 'area':area})\n",
    "print(state)\n",
    "\n",
    "print(states.index,'\\n')\n",
    "print(states.columns)"
   ]
  },
  {
   "cell_type": "code",
   "execution_count": 37,
   "id": "a7d7582c-923e-4687-bafd-e265a56255b0",
   "metadata": {},
   "outputs": [
    {
     "name": "stdout",
     "output_type": "stream",
     "text": [
      "California    423967\n",
      "Texas         695662\n",
      "New York      141297\n",
      "Florida       170312\n",
      "Illinois      149995\n",
      "Name: area, dtype: int64\n",
      "[[0.65001097 0.03843398]\n",
      " [0.71820477 0.37978989]\n",
      " [0.26571724 0.23300634]] \n",
      "\n",
      "        foo       bar\n",
      "a  0.650011  0.038434\n",
      "b  0.718205  0.379790\n",
      "c  0.265717  0.233006\n"
     ]
    }
   ],
   "source": [
    "# Construct a DaraFrame from a 2D Numpy array\n",
    "\n",
    "print(states['area'])\n",
    "\n",
    "arr= np.random.rand(3,2)\n",
    "print(arr,'\\n')\n",
    "\n",
    "df = pd.DataFrame(arr,columns=['foo','bar'],index=['a','b','c'])\n",
    "print(df)"
   ]
  },
  {
   "cell_type": "code",
   "execution_count": 48,
   "id": "259bfc4f-5526-42d5-8993-c169cb5b4455",
   "metadata": {},
   "outputs": [
    {
     "name": "stdout",
     "output_type": "stream",
     "text": [
      "a    0.25\n",
      "b    0.50\n",
      "c    0.75\n",
      "d    1.00\n",
      "dtype: float64 \n",
      "\n",
      "True\n",
      "False\n",
      "0.5\n",
      "0.25\n",
      "Index(['a', 'b', 'c', 'd'], dtype='object')\n",
      "Index(['a', 'b', 'c', 'd'], dtype='object')\n"
     ]
    }
   ],
   "source": [
    "\"\"\"\n",
    "Series object manipulation: dictionary-style\n",
    "\"\"\"\n",
    "\n",
    "ser = pd.Series([0.25,0.5,0.75,1.0],index=['a','b','c','d'])\n",
    "print(ser,'\\n')\n",
    "print('a'in ser)\n",
    "print(0.25 in ser)  # key는 pandas 객체에서 index를 의미함\n",
    "                    # pandas 객체에선 key를 찾는 것은 가능\n",
    "                    # pandas 객체에선 특정 값을 찾는 문법은 존재하지 않음\n",
    "print(ser['b'])\n",
    "print(ser[0])\n",
    "print(ser.keys())\n",
    "print(ser.index)"
   ]
  },
  {
   "cell_type": "code",
   "execution_count": 49,
   "id": "97c77454-3fac-4724-8467-0dcb73092b05",
   "metadata": {},
   "outputs": [
    {
     "name": "stdout",
     "output_type": "stream",
     "text": [
      "Index(['a', 'b', 'c', 'd'], dtype='object')\n",
      "a    0.125\n",
      "b    0.500\n",
      "c    0.750\n",
      "d    1.000\n",
      "e    1.250\n",
      "dtype: float64\n"
     ]
    }
   ],
   "source": [
    "\"\"\"\n",
    "Series object manipulation: array-style\n",
    "\"\"\"\n",
    "print(ser.keys())\n",
    "ser['e'] = 1.25\n",
    "ser['a'] = 0.125\n",
    "\n",
    "print(ser)"
   ]
  },
  {
   "cell_type": "code",
   "execution_count": 54,
   "id": "877854f6-bfda-4cd4-a06c-34904a5c71ea",
   "metadata": {},
   "outputs": [
    {
     "name": "stdout",
     "output_type": "stream",
     "text": [
      "California    423967\n",
      "Texas         695662\n",
      "New York      141297\n",
      "Florida       170312\n",
      "Illinois      149995\n",
      "Name: area, dtype: int64\n",
      "            population    area     density\n",
      "California    38332521  423967   90.413926\n",
      "Texas         26448193  695662   38.018740\n",
      "New York      19651127  141297  139.076746\n",
      "Florida       19552860  170312  114.806121\n",
      "Illinois      12882135  149995   85.883763\n"
     ]
    }
   ],
   "source": [
    "\"\"\"\n",
    "DaraFrame object manipulation\n",
    "\"\"\"\n",
    "\n",
    "print(states.area)\n",
    "states['density'] = states['population'] / states['area']\n",
    "print(states)"
   ]
  },
  {
   "cell_type": "code",
   "execution_count": 59,
   "id": "d5167eff-0920-44df-a3c0-b3c88c2f3320",
   "metadata": {},
   "outputs": [
    {
     "data": {
      "text/html": [
       "<div>\n",
       "<style scoped>\n",
       "    .dataframe tbody tr th:only-of-type {\n",
       "        vertical-align: middle;\n",
       "    }\n",
       "\n",
       "    .dataframe tbody tr th {\n",
       "        vertical-align: top;\n",
       "    }\n",
       "\n",
       "    .dataframe thead th {\n",
       "        text-align: right;\n",
       "    }\n",
       "</style>\n",
       "<table border=\"1\" class=\"dataframe\">\n",
       "  <thead>\n",
       "    <tr style=\"text-align: right;\">\n",
       "      <th></th>\n",
       "      <th>population</th>\n",
       "      <th>area</th>\n",
       "      <th>density</th>\n",
       "    </tr>\n",
       "  </thead>\n",
       "  <tbody>\n",
       "    <tr>\n",
       "      <th>California</th>\n",
       "      <td>38332521</td>\n",
       "      <td>423967</td>\n",
       "      <td>90.413926</td>\n",
       "    </tr>\n",
       "    <tr>\n",
       "      <th>Texas</th>\n",
       "      <td>26448193</td>\n",
       "      <td>695662</td>\n",
       "      <td>38.018740</td>\n",
       "    </tr>\n",
       "    <tr>\n",
       "      <th>New York</th>\n",
       "      <td>19651127</td>\n",
       "      <td>141297</td>\n",
       "      <td>139.076746</td>\n",
       "    </tr>\n",
       "  </tbody>\n",
       "</table>\n",
       "</div>"
      ],
      "text/plain": [
       "            population    area     density\n",
       "California    38332521  423967   90.413926\n",
       "Texas         26448193  695662   38.018740\n",
       "New York      19651127  141297  139.076746"
      ]
     },
     "execution_count": 59,
     "metadata": {},
     "output_type": "execute_result"
    }
   ],
   "source": [
    "# Indexer : Loc, iloc\n",
    "\n",
    "states.iloc[:3]"
   ]
  },
  {
   "cell_type": "code",
   "execution_count": 62,
   "id": "8880cbce-9dc0-4171-8df0-83eafd110559",
   "metadata": {},
   "outputs": [
    {
     "name": "stdout",
     "output_type": "stream",
     "text": [
      "          population     density\n",
      "New York    19651127  139.076746\n",
      "Florida     19552860  114.806121 \n",
      "\n"
     ]
    }
   ],
   "source": [
    "# Masking and fancy indexing using the Loc indexer\n",
    "print(states.loc[states.density > 100,['population','density']],'\\n')"
   ]
  }
 ],
 "metadata": {
  "kernelspec": {
   "display_name": "Python 3",
   "language": "python",
   "name": "python3"
  },
  "language_info": {
   "codemirror_mode": {
    "name": "ipython",
    "version": 3
   },
   "file_extension": ".py",
   "mimetype": "text/x-python",
   "name": "python",
   "nbconvert_exporter": "python",
   "pygments_lexer": "ipython3",
   "version": "3.8.8"
  }
 },
 "nbformat": 4,
 "nbformat_minor": 5
}
