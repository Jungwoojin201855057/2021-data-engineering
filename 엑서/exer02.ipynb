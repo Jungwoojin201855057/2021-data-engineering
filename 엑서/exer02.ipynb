{
 "cells": [
  {
   "cell_type": "code",
   "execution_count": 3,
   "id": "e4b88d49-f49c-4746-9d79-e55e2665667d",
   "metadata": {},
   "outputs": [
    {
     "name": "stdout",
     "output_type": "stream",
     "text": [
      "우진이는 정처기 시험을 응시했는가? True\n",
      "우진이는 정처기 시험을 통과했는가? False\n",
      "<class 'bool'>\n"
     ]
    }
   ],
   "source": [
    "\"\"\"\n",
    "Boolean Values\n",
    "\"\"\"\n",
    "\n",
    "is_tested = True\n",
    "is_passed = False\n",
    "\n",
    "print(\"우진이는 정처기 시험을 응시했는가?\",is_tested)\n",
    "\n",
    "print(\"우진이는 정처기 시험을 통과했는가?\",is_passed)\n",
    "\n",
    "print(type(is_passed))\n"
   ]
  },
  {
   "cell_type": "code",
   "execution_count": 7,
   "id": "fba6ee9b-41e4-4131-81fd-3d3e15a821e9",
   "metadata": {},
   "outputs": [
    {
     "name": "stdout",
     "output_type": "stream",
     "text": [
      "<class 'int'>\n",
      "<class 'float'>\n",
      "<class 'str'>\n"
     ]
    }
   ],
   "source": [
    "a = 3\n",
    "b = 3.14\n",
    "c = 'c'\n",
    "print(type(a))\n",
    "print(type(b))\n",
    "print(type(c))"
   ]
  },
  {
   "cell_type": "code",
   "execution_count": 10,
   "id": "1f5b63ea-ce46-4d5c-b0a5-2960e6d36723",
   "metadata": {},
   "outputs": [
    {
     "name": "stdout",
     "output_type": "stream",
     "text": [
      "True\n",
      "True\n",
      "False\n"
     ]
    }
   ],
   "source": [
    "print(\"Yes\" == 'Yes')\n",
    "print((2>1) == (5<10))\n",
    "c ='2'\n",
    "d = 2\n",
    "print(c == d)"
   ]
  },
  {
   "cell_type": "code",
   "execution_count": 14,
   "id": "75b41b07-cf63-4f05-a529-8f7fb800027e",
   "metadata": {},
   "outputs": [
    {
     "data": {
      "text/plain": [
       "True"
      ]
     },
     "execution_count": 14,
     "metadata": {},
     "output_type": "execute_result"
    }
   ],
   "source": [
    "True or True  # True\n",
    "True or False # True\n",
    "False or False # Flase\n",
    "1 < 2 or 3 < 1 # True\n",
    "3 < 1 or 1 > 6 # Flase\n",
    "1 == 1 or 1 < 2 # True"
   ]
  },
  {
   "cell_type": "code",
   "execution_count": 25,
   "id": "b3afb4b2-11bc-483b-a7df-7cd30f3b9b09",
   "metadata": {},
   "outputs": [
    {
     "name": "stdout",
     "output_type": "stream",
     "text": [
      "말티즈.\n",
      "새끼 말티즈\n",
      "True\n"
     ]
    }
   ],
   "source": [
    "\"\"\"\n",
    "Conditional statement (if/elif/else)\n",
    "\"\"\"\n",
    "\n",
    "puppy = \"mts\"\n",
    "age = 1\n",
    "is_yes = False\n",
    "\n",
    "if puppy == \"mts\":\n",
    "    print(\"말티즈.\")\n",
    "    is_yes = True\n",
    "    \n",
    "    if age < 3:\n",
    "        print(\"새끼 말티즈\")\n",
    "elif puppy == \"pd\":\n",
    "    print(\"푸들\")\n",
    "    is_yes = True\n",
    "elif puppy == \"sc\":\n",
    "    print(\"시츄\")\n",
    "    is_yes = True\n",
    "else:\n",
    "    print(\"아! mtp구나\")\n",
    "    is_yes = True\n",
    "print(is_yes)\n",
    "    "
   ]
  },
  {
   "cell_type": "code",
   "execution_count": 34,
   "id": "583de986-9437-4879-ad30-6586ad4a01b1",
   "metadata": {},
   "outputs": [
    {
     "name": "stdout",
     "output_type": "stream",
     "text": [
      "[Error]\n",
      "contiue\n"
     ]
    }
   ],
   "source": [
    "\"\"\"\n",
    "Try/Except 문\n",
    "\"\"\"\n",
    "x = 1\n",
    "try:\n",
    "    print(y)\n",
    "    print(x)\n",
    "except:\n",
    "    print('[Error]')\n",
    "print(\"contiue\")"
   ]
  },
  {
   "cell_type": "code",
   "execution_count": null,
   "id": "78d446a8-847f-48e5-a02a-f566433a7862",
   "metadata": {},
   "outputs": [],
   "source": []
  }
 ],
 "metadata": {
  "kernelspec": {
   "display_name": "Python 3",
   "language": "python",
   "name": "python3"
  },
  "language_info": {
   "codemirror_mode": {
    "name": "ipython",
    "version": 3
   },
   "file_extension": ".py",
   "mimetype": "text/x-python",
   "name": "python",
   "nbconvert_exporter": "python",
   "pygments_lexer": "ipython3",
   "version": "3.8.8"
  }
 },
 "nbformat": 4,
 "nbformat_minor": 5
}
