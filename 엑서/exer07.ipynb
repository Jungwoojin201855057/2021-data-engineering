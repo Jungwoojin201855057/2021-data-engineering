{
 "cells": [
  {
   "cell_type": "code",
   "execution_count": 21,
   "id": "17515263-aa9b-40b5-a659-652a19f6eaab",
   "metadata": {},
   "outputs": [],
   "source": [
    "import numpy as np"
   ]
  },
  {
   "cell_type": "code",
   "execution_count": 22,
   "id": "9b2be5e6-caa3-4d0f-84d0-95ce75845a23",
   "metadata": {},
   "outputs": [
    {
     "name": "stdout",
     "output_type": "stream",
     "text": [
      "[0 1 2]\n",
      "[3 4 5 6 7 8]\n",
      "[3 5 7]\n"
     ]
    }
   ],
   "source": [
    "\"\"\"\n",
    "NumPy Array Attributes\n",
    "\"\"\"\n",
    "print(np.arange(3))\n",
    "print(np.arange(3,9))\n",
    "print(np.arange(3,9,2))"
   ]
  },
  {
   "cell_type": "code",
   "execution_count": 37,
   "id": "4325af20-d1e9-4b9d-8c0d-ae7b90c6884e",
   "metadata": {},
   "outputs": [
    {
     "name": "stdout",
     "output_type": "stream",
     "text": [
      "[5 0 3 3 7 9]\n",
      "[[3 5 2 4]\n",
      " [7 6 8 8]\n",
      " [1 6 7 7]]\n",
      "[[[8 1 5 9 8]\n",
      "  [9 4 3 0 3]\n",
      "  [5 0 2 3 8]\n",
      "  [1 3 3 3 7]]\n",
      "\n",
      " [[0 1 9 9 0]\n",
      "  [4 7 3 2 7]\n",
      "  [2 0 0 4 5]\n",
      "  [5 6 8 4 1]]\n",
      "\n",
      " [[4 9 8 1 1]\n",
      "  [7 9 9 3 6]\n",
      "  [7 2 0 3 5]\n",
      "  [9 4 4 6 4]]]\n"
     ]
    }
   ],
   "source": [
    "# Random number generator\n",
    "np.random.seed(0)\n",
    "arr1 = np.random.randint(10,size=6)\n",
    "print(arr1)\n",
    "arr2 = np.random.randint(10,size=(3,4))\n",
    "print(arr2)\n",
    "arr3 = np.random.randint(10,size=(3,4,5))\n",
    "print(arr3)"
   ]
  },
  {
   "cell_type": "code",
   "execution_count": 39,
   "id": "c7b9304b-dee9-4bd1-acf8-ac374259ffc5",
   "metadata": {},
   "outputs": [
    {
     "name": "stdout",
     "output_type": "stream",
     "text": [
      "[[3 5 2 4]\n",
      " [7 6 8 8]\n",
      " [1 6 7 7]]\n",
      "arr2.ndim = 2\n",
      "arr2.shape = (3, 4)\n",
      "arr2.size = 12\n",
      "arr2.dtype = int32\n",
      "arr2.itemsize = 4\n",
      "arr2.nbytes = 48\n"
     ]
    }
   ],
   "source": [
    "# Attributes\n",
    "print(arr2)\n",
    "print(\"arr2.ndim =\", arr2.ndim)\n",
    "print(\"arr2.shape =\", arr2.shape)\n",
    "print(\"arr2.size =\", arr2.size)\n",
    "print(\"arr2.dtype =\", arr2.dtype)\n",
    "print(\"arr2.itemsize =\", arr2.itemsize)\n",
    "print(\"arr2.nbytes =\", arr2.nbytes)\n"
   ]
  },
  {
   "cell_type": "code",
   "execution_count": 40,
   "id": "3362f669-fb2e-49ac-85a0-b6c0bbecf6d9",
   "metadata": {},
   "outputs": [
    {
     "name": "stdout",
     "output_type": "stream",
     "text": [
      "[0 1 2 3 4 5 6 7 8 9]\n",
      "[3 4 5 6]\n",
      "[0 1 2 3 4]\n",
      "[5 6 7 8 9]\n",
      "[0 3 6 9]\n",
      "[2 4 6]\n"
     ]
    }
   ],
   "source": [
    "\"\"\"\n",
    "Slicing\n",
    "\"\"\"\n",
    "arr = np.arange(10)\n",
    "print(arr)\n",
    "\n",
    "print(arr[3:7])\n",
    "print(arr[:5])\n",
    "print(arr[5:])\n",
    "print(arr[::3])\n",
    "print(arr[2:8:2])"
   ]
  },
  {
   "cell_type": "code",
   "execution_count": 42,
   "id": "7fb09a79-cedc-4a62-9521-e6d08318ecf6",
   "metadata": {},
   "outputs": [
    {
     "name": "stdout",
     "output_type": "stream",
     "text": [
      "[[5 0 3 3 7 9 3 5]\n",
      " [2 4 7 6 8 8 1 6]\n",
      " [7 7 8 1 5 9 8 9]\n",
      " [4 3 0 3 5 0 2 3]\n",
      " [8 1 3 3 3 7 0 1]\n",
      " [9 9 0 4 7 3 2 7]]\n",
      "[[5 0 2]\n",
      " [3 7 0]]\n"
     ]
    }
   ],
   "source": [
    "# Multi-dimensional Subarrays\n",
    "np.random.seed(0)\n",
    "arr = np.random.randint(10,size=(6,8))\n",
    "print(arr)\n",
    "\n",
    "arr_sub = arr[3:5, 4:7]\n",
    "print(arr_sub)"
   ]
  },
  {
   "cell_type": "code",
   "execution_count": 45,
   "id": "9371b8d1-1f14-4994-9091-067aa7b67f64",
   "metadata": {},
   "outputs": [
    {
     "name": "stdout",
     "output_type": "stream",
     "text": [
      "[[5 0 3 3]\n",
      " [7 9 3 5]\n",
      " [2 4 7 6]] \n",
      "\n",
      "[[5 0]\n",
      " [7 9]] \n",
      "\n",
      "[[99  0  3  3]\n",
      " [ 7  9  3  5]\n",
      " [ 2  4  7  6]]\n"
     ]
    }
   ],
   "source": [
    "\"\"\"\n",
    "Subarrys as no-copy views\n",
    "\"\"\"\n",
    "np.random.seed(0)\n",
    "arr = np.random.randint(10,size=(3,4))\n",
    "print(arr,'\\n')\n",
    "\n",
    "arr_sub = arr[:2,:2]\n",
    "print(arr_sub,'\\n')\n",
    "\n",
    "arr_sub[0,0] = 99\n",
    "print(arr)"
   ]
  },
  {
   "cell_type": "code",
   "execution_count": 49,
   "id": "1ffded3d-165b-4ef7-b931-8969ab0c767c",
   "metadata": {},
   "outputs": [
    {
     "name": "stdout",
     "output_type": "stream",
     "text": [
      "[[12  5  2  4]\n",
      " [ 7  6  8  8]\n",
      " [ 1  6  7  7]]\n",
      "[[12  5]\n",
      " [ 7  6]] \n",
      "\n",
      "[[99  5]\n",
      " [ 7  6]]\n"
     ]
    }
   ],
   "source": [
    "# copy()\n",
    "\n",
    "arr=np.array([[12,5,2,4],[7,6,8,8],[1,6,7,7]])\n",
    "print(arr)\n",
    "\n",
    "arr_sub = arr[:2,:2].copy()\n",
    "print(arr_sub,'\\n')\n",
    "\n",
    "arr_sub[0,0] = 99\n",
    "print(arr_sub)"
   ]
  },
  {
   "cell_type": "code",
   "execution_count": 52,
   "id": "ce91eaab-d785-431c-8d85-86dc27113f3b",
   "metadata": {},
   "outputs": [
    {
     "name": "stdout",
     "output_type": "stream",
     "text": [
      "[1 2 3]\n",
      "arr.ndim = 1\n",
      "arr.shape = (3,)\n",
      "[[1]\n",
      " [2]\n",
      " [3]]\n",
      "arr.ndim = 1\n",
      "arr.shape = (3,)\n"
     ]
    }
   ],
   "source": [
    "# np.newaxis\n",
    "arr = np.array([1,2,3])\n",
    "print(arr)\n",
    "print(\"arr.ndim =\",arr.ndim)\n",
    "print(\"arr.shape =\",arr.shape)\n",
    "\n",
    "arr_new = arr[:, np.newaxis]\n",
    "print(arr_new)\n",
    "print(\"arr.ndim =\",arr.ndim)\n",
    "print(\"arr.shape =\",arr.shape)"
   ]
  },
  {
   "cell_type": "code",
   "execution_count": 61,
   "id": "a331eaca-4052-4131-a478-9cdb4864ad34",
   "metadata": {},
   "outputs": [
    {
     "name": "stdout",
     "output_type": "stream",
     "text": [
      "[[1 2 3]\n",
      " [1 2 3]\n",
      " [4 5 6]\n",
      " [4 5 6]\n",
      " [7 8 9]\n",
      " [7 8 9]]\n",
      "[[1 2 3]\n",
      " [1 2 3]\n",
      " [4 5 6]\n",
      " [4 5 6]\n",
      " [7 8 9]\n",
      " [7 8 9]] \n",
      "\n",
      "[[1 2 3 4 5 6 7 8 9]\n",
      " [1 2 3 4 5 6 7 8 9]] \n",
      "\n"
     ]
    }
   ],
   "source": [
    "\"\"\"\n",
    "Array Concatenation\n",
    "\"\"\"\n",
    "\n",
    "arr_1 = np.array([[1,2,3],[1,2,3]])\n",
    "arr_2 = np.array([[4,5,6],[4,5,6]])\n",
    "arr_3 = np.array([[7,8,9],[7,8,9]])\n",
    "\n",
    "arr_total = np.concatenate([arr_1,arr_2,arr_3],axis=0)\n",
    "print(arr_total)\n",
    "\n",
    "arr_total = np.vstack([arr_1,arr_2,arr_3])\n",
    "print(arr_total,'\\n')\n",
    "\n",
    "arr_total = np.hstack([arr_1,arr_2,arr_3])\n",
    "print(arr_total,'\\n')"
   ]
  },
  {
   "cell_type": "code",
   "execution_count": 62,
   "id": "c5ce0704-2a18-49c7-bc4b-318c74a3d266",
   "metadata": {},
   "outputs": [
    {
     "name": "stdout",
     "output_type": "stream",
     "text": [
      "[1, 2, 3, 99, 99, 3, 2, 1] \n",
      "\n",
      "[1 2 3] [99 99] [3 2 1]\n"
     ]
    }
   ],
   "source": [
    "\"\"\"\n",
    "Array Splitting\n",
    "\"\"\"\n",
    "\n",
    "arr = [1,2,3,99,99,3,2,1]\n",
    "print(arr,'\\n')\n",
    "\n",
    "arr_1,arr_2,arr_3 = np.split(arr,[3,5])\n",
    "print(arr_1,arr_2,arr_3)"
   ]
  }
 ],
 "metadata": {
  "kernelspec": {
   "display_name": "Python 3",
   "language": "python",
   "name": "python3"
  },
  "language_info": {
   "codemirror_mode": {
    "name": "ipython",
    "version": 3
   },
   "file_extension": ".py",
   "mimetype": "text/x-python",
   "name": "python",
   "nbconvert_exporter": "python",
   "pygments_lexer": "ipython3",
   "version": "3.8.8"
  }
 },
 "nbformat": 4,
 "nbformat_minor": 5
}
