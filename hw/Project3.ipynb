{
 "cells": [
  {
   "cell_type": "code",
   "execution_count": 14,
   "id": "f7e655ad-0337-4586-94a5-af5c159dcf80",
   "metadata": {},
   "outputs": [
    {
     "name": "stdout",
     "output_type": "stream",
     "text": [
      "Average price is 31.875\n"
     ]
    }
   ],
   "source": [
    "\"\"\"\n",
    "Carly's Clippers\n",
    "\"\"\"\n",
    "# hairstyles는 Carly's Clippers에서 제공되는 컷의 이름입니다\n",
    "hairstyles = [\"bouffant\", \"pixie\", \"dreadlocks\", \"crew\", \"bowl\", \"bob\", \"mohawk\", \"flattop\"] \n",
    "\n",
    "# prices는 hairstyles목록 에 있는 각 헤어스타일의 가격입니다 \n",
    "prices = [30, 25, 40, 20, 20, 35, 50, 35]\n",
    "size = len(prices)\n",
    "\n",
    "# last_week는 지난주 헤어스타일별 구매 건수\n",
    "last_week = [2, 3, 5, 8, 4, 4, 6, 2]\n",
    "\n",
    "total_price = 0\n",
    "for price in prices:\n",
    "    total_price += price\n",
    "average_price = total_price / size\n",
    "print(\"Average price is\",average_price)"
   ]
  },
  {
   "cell_type": "code",
   "execution_count": 6,
   "id": "36321f71-613a-4b37-852e-22d16197b193",
   "metadata": {},
   "outputs": [
    {
     "name": "stdout",
     "output_type": "stream",
     "text": [
      "[25, 20, 35, 15, 15, 30, 45, 30]\n"
     ]
    }
   ],
   "source": [
    "\"\"\"\n",
    "Carly's Clippers\n",
    "\"\"\"\n",
    "# hairstyles는 Carly's Clippers에서 제공되는 컷의 이름입니다\n",
    "hairstyles = [\"bouffant\", \"pixie\", \"dreadlocks\", \"crew\", \"bowl\", \"bob\", \"mohawk\", \"flattop\"] \n",
    "\n",
    "# prices는 hairstyles목록 에 있는 각 헤어스타일의 가격입니다 \n",
    "prices = [30, 25, 40, 20, 20, 35, 50, 35]\n",
    "size = len(prices)\n",
    "\n",
    "# last_week는 지난주 헤어스타일별 구매 건수\n",
    "last_week = [2, 3, 5, 8, 4, 4, 6, 2]\n",
    "\n",
    "total_price = 0\n",
    "for price in prices:\n",
    "    total_price += price\n",
    "average_price = total_price / size\n",
    "# print(\"Average price is\",average_price)\n",
    "\n",
    "new_price = [price-5 for price in prices]\n",
    "print(new_price)"
   ]
  },
  {
   "cell_type": "code",
   "execution_count": 24,
   "id": "e5862d2b-f736-4bfc-be0d-38ec7de23e19",
   "metadata": {},
   "outputs": [
    {
     "name": "stdout",
     "output_type": "stream",
     "text": [
      "Average daily revenue is 155.0\n"
     ]
    }
   ],
   "source": [
    "\"\"\"\n",
    "Carly's Clippers\n",
    "\"\"\"\n",
    "# hairstyles는 Carly's Clippers에서 제공되는 컷의 이름입니다\n",
    "hairstyles = [\"bouffant\", \"pixie\", \"dreadlocks\", \"crew\", \"bowl\", \"bob\", \"mohawk\", \"flattop\"] \n",
    "len(hairstyles)\n",
    "# prices는 hairstyles목록 에 있는 각 헤어스타일의 가격입니다 \n",
    "prices = [30, 25, 40, 20, 20, 35, 50, 35]\n",
    "size = len(prices)\n",
    "\n",
    "# last_week는 지난주 헤어스타일별 구매 건수\n",
    "last_week = [2, 3, 5, 8, 4, 4, 6, 2]\n",
    "\n",
    "total_price = 0\n",
    "for price in prices:\n",
    "    total_price += price\n",
    "average_price = total_price / size\n",
    "# print(\"Average price is\",average_price)\n",
    "\n",
    "new_price = [price-5 for price in prices]\n",
    "# print(new_price)\n",
    "\n",
    "total_revenue = 0\n",
    "for i in range(len(hairstyles)):\n",
    "    total_revenue += prices[i]*last_week[i]\n",
    "\n",
    "average_daily_revenue = total_revenue / 7\n",
    "    \n",
    "print(\"Average daily revenue is\",average_daily_revenue)"
   ]
  },
  {
   "cell_type": "code",
   "execution_count": 46,
   "id": "a61b283f-2faa-43fd-ad51-6a0d616afafe",
   "metadata": {},
   "outputs": [
    {
     "name": "stdout",
     "output_type": "stream",
     "text": [
      "['bouffant', 'pixie', 'crew', 'bowl']\n"
     ]
    }
   ],
   "source": [
    "\"\"\"\n",
    "Carly's Clippers\n",
    "\"\"\"\n",
    "# hairstyles는 Carly's Clippers에서 제공되는 컷의 이름입니다\n",
    "hairstyles = [\"bouffant\", \"pixie\", \"dreadlocks\", \"crew\", \"bowl\", \"bob\", \"mohawk\", \"flattop\"] \n",
    "len(hairstyles)\n",
    "# prices는 hairstyles목록 에 있는 각 헤어스타일의 가격입니다 \n",
    "prices = [30, 25, 40, 20, 20, 35, 50, 35]\n",
    "size = len(prices)\n",
    "\n",
    "# last_week는 지난주 헤어스타일별 구매 건수\n",
    "last_week = [2, 3, 5, 8, 4, 4, 6, 2]\n",
    "\n",
    "total_price = 0\n",
    "for price in prices:\n",
    "    total_price += price\n",
    "average_price = total_price / size\n",
    "# print(\"Average price is\",average_price)\n",
    "\n",
    "new_price = [price-5 for price in prices]\n",
    "# print(new_price)\n",
    "\n",
    "total_revenue = 0\n",
    "for i in range(len(hairstyles)):\n",
    "    total_revenue += prices[i]*last_week[i]\n",
    "\n",
    "average_daily_revenue = total_revenue / 7\n",
    "    \n",
    "# print(\"Average daily revenue is\",average_daily_revenue)\n",
    "\n",
    "cuts_under_30 = [hairstyles[i] for i in range(len(new_price)) if new_price[i] < 30]\n",
    "print(cuts_under_30)"
   ]
  }
 ],
 "metadata": {
  "kernelspec": {
   "display_name": "Python 3",
   "language": "python",
   "name": "python3"
  },
  "language_info": {
   "codemirror_mode": {
    "name": "ipython",
    "version": 3
   },
   "file_extension": ".py",
   "mimetype": "text/x-python",
   "name": "python",
   "nbconvert_exporter": "python",
   "pygments_lexer": "ipython3",
   "version": "3.8.8"
  }
 },
 "nbformat": 4,
 "nbformat_minor": 5
}
