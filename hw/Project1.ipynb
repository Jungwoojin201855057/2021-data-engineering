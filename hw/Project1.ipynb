{
 "cells": [
  {
   "cell_type": "code",
   "execution_count": 29,
   "id": "0eb0d047-3e12-4e80-983d-6360cea43da6",
   "metadata": {},
   "outputs": [
    {
     "name": "stdout",
     "output_type": "stream",
     "text": [
      "customer one Items:\n",
      "Lovely Loveseat. Tufted polyester blend on wood. 32 inches high x 40 inches wide x 30 inches deep. Red or white.Luxurious Lamp. Glass and iron. 36 inches tall. Brown with cream shade.\n",
      "Customer One Total:\n",
      "333.09119999999996\n"
     ]
    }
   ],
   "source": [
    "\"\"\"\n",
    "Lovely Loveseat.\n",
    "\"\"\"\n",
    "Lovely_Loveseat_description = \"Lovely Loveseat. Tufted polyester blend on wood. 32 inches high x 40 inches wide x 30 inches deep. Red or white.\"\n",
    "Lovely_Loveseat_price = 254.00\n",
    "\n",
    "\"\"\"\n",
    "Stylish Settee.\n",
    "\"\"\"\n",
    "\n",
    "stylish_settee_description = \"Stylish Settee. Faux leather on birch. 29.50 inches high x 54.75 inches wide x 28 inches deep. Black.\"\n",
    "stylish_settee_price = 180.50\n",
    "\n",
    "\"\"\"\n",
    "Luxurious Lamp.\n",
    "\"\"\"\n",
    "\n",
    "luxurious_lamp_description = \"Luxurious Lamp. Glass and iron. 36 inches tall. Brown with cream shade.\"\n",
    "luxurious_lamp_price = 52.15\n",
    "\n",
    "\n",
    "sales_tax = 0.088\n",
    "customer_one_total = 0\n",
    "customer_one_tax = (Lovely_Loveseat_price + luxurious_lamp_price)*sales_tax\n",
    "customer_one_total = (Lovely_Loveseat_price + luxurious_lamp_price)+customer_one_tax\n",
    "customer_one_itemization = Lovely_Loveseat_description+luxurious_lamp_description\n",
    "\n",
    "print(\"customer one Items:\")\n",
    "print(customer_one_itemization)\n",
    "print(\"Customer One Total:\")\n",
    "print(customer_one_total)"
   ]
  },
  {
   "cell_type": "code",
   "execution_count": null,
   "id": "60ce12c7-ccb8-4eaa-9c3a-e6a0afc0b865",
   "metadata": {},
   "outputs": [],
   "source": []
  }
 ],
 "metadata": {
  "kernelspec": {
   "display_name": "Python 3",
   "language": "python",
   "name": "python3"
  },
  "language_info": {
   "codemirror_mode": {
    "name": "ipython",
    "version": 3
   },
   "file_extension": ".py",
   "mimetype": "text/x-python",
   "name": "python",
   "nbconvert_exporter": "python",
   "pygments_lexer": "ipython3",
   "version": "3.8.8"
  }
 },
 "nbformat": 4,
 "nbformat_minor": 5
}
